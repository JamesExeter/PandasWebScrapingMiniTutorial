{
  "nbformat": 4,
  "nbformat_minor": 0,
  "metadata": {
    "colab": {
      "name": "PandasWebScrapingMiniTutorial.ipynb",
      "provenance": [],
      "collapsed_sections": [],
      "authorship_tag": "ABX9TyOCv4W/wg2u8Wm/JkqZIwzN",
      "include_colab_link": true
    },
    "kernelspec": {
      "name": "python3",
      "display_name": "Python 3"
    }
  },
  "cells": [
    {
      "cell_type": "markdown",
      "metadata": {
        "id": "view-in-github",
        "colab_type": "text"
      },
      "source": [
        "<a href=\"https://colab.research.google.com/github/JamesExeter/PandasWebScrapingMiniTutorial/blob/main/PandasWebScrapingMiniTutorial.ipynb\" target=\"_parent\"><img src=\"https://colab.research.google.com/assets/colab-badge.svg\" alt=\"Open In Colab\"/></a>"
      ]
    },
    {
      "cell_type": "code",
      "metadata": {
        "colab": {
          "base_uri": "https://localhost:8080/"
        },
        "id": "7KIVP5DaFVwn",
        "outputId": "9dc17b23-ab3a-4bd5-becc-0ee600efb8dc"
      },
      "source": [
        "import pandas as pd\r\n",
        "\r\n",
        "url = 'https://en.wikipedia.org/wiki/The_World%27s_Billionaires'\r\n",
        "df_list = pd.read_html(url)\r\n",
        "len(df_list)"
      ],
      "execution_count": 2,
      "outputs": [
        {
          "output_type": "execute_result",
          "data": {
            "text/plain": [
              "32"
            ]
          },
          "metadata": {
            "tags": []
          },
          "execution_count": 2
        }
      ]
    },
    {
      "cell_type": "code",
      "metadata": {
        "colab": {
          "base_uri": "https://localhost:8080/",
          "height": 373
        },
        "id": "Z8cx8eIEFtH2",
        "outputId": "e6cbdc9f-b743-4ba1-ab9e-b1cb82510ed1"
      },
      "source": [
        "pd.read_html(url, index_col=1)[2]"
      ],
      "execution_count": 3,
      "outputs": [
        {
          "output_type": "execute_result",
          "data": {
            "text/html": [
              "<div>\n",
              "<style scoped>\n",
              "    .dataframe tbody tr th:only-of-type {\n",
              "        vertical-align: middle;\n",
              "    }\n",
              "\n",
              "    .dataframe tbody tr th {\n",
              "        vertical-align: top;\n",
              "    }\n",
              "\n",
              "    .dataframe thead th {\n",
              "        text-align: right;\n",
              "    }\n",
              "</style>\n",
              "<table border=\"1\" class=\"dataframe\">\n",
              "  <thead>\n",
              "    <tr style=\"text-align: right;\">\n",
              "      <th></th>\n",
              "      <th>No.</th>\n",
              "      <th>Net worth (USD)</th>\n",
              "      <th>Age</th>\n",
              "      <th>Nationality</th>\n",
              "      <th>Source(s) of wealth</th>\n",
              "    </tr>\n",
              "    <tr>\n",
              "      <th>Name</th>\n",
              "      <th></th>\n",
              "      <th></th>\n",
              "      <th></th>\n",
              "      <th></th>\n",
              "      <th></th>\n",
              "    </tr>\n",
              "  </thead>\n",
              "  <tbody>\n",
              "    <tr>\n",
              "      <th>Jeff Bezos</th>\n",
              "      <td>1</td>\n",
              "      <td>$113 billion</td>\n",
              "      <td>56</td>\n",
              "      <td>United States</td>\n",
              "      <td>Amazon</td>\n",
              "    </tr>\n",
              "    <tr>\n",
              "      <th>Bill Gates</th>\n",
              "      <td>2</td>\n",
              "      <td>$98 billion</td>\n",
              "      <td>64</td>\n",
              "      <td>United States</td>\n",
              "      <td>Microsoft</td>\n",
              "    </tr>\n",
              "    <tr>\n",
              "      <th>Bernard Arnault &amp; family</th>\n",
              "      <td>3</td>\n",
              "      <td>$76 billion</td>\n",
              "      <td>71</td>\n",
              "      <td>France</td>\n",
              "      <td>LVMH</td>\n",
              "    </tr>\n",
              "    <tr>\n",
              "      <th>Warren Buffett</th>\n",
              "      <td>4</td>\n",
              "      <td>$67.5 billion</td>\n",
              "      <td>89</td>\n",
              "      <td>United States</td>\n",
              "      <td>Berkshire Hathaway</td>\n",
              "    </tr>\n",
              "    <tr>\n",
              "      <th>Larry Ellison</th>\n",
              "      <td>5</td>\n",
              "      <td>$59 billion</td>\n",
              "      <td>75</td>\n",
              "      <td>United States</td>\n",
              "      <td>Oracle Corporation</td>\n",
              "    </tr>\n",
              "    <tr>\n",
              "      <th>Amancio Ortega</th>\n",
              "      <td>6</td>\n",
              "      <td>$55.1 billion</td>\n",
              "      <td>84</td>\n",
              "      <td>Spain</td>\n",
              "      <td>Inditex, Zara</td>\n",
              "    </tr>\n",
              "    <tr>\n",
              "      <th>Mark Zuckerberg</th>\n",
              "      <td>7</td>\n",
              "      <td>$54.7 billion</td>\n",
              "      <td>35</td>\n",
              "      <td>United States</td>\n",
              "      <td>Facebook</td>\n",
              "    </tr>\n",
              "    <tr>\n",
              "      <th>Jim Walton</th>\n",
              "      <td>8</td>\n",
              "      <td>$54.6 billion</td>\n",
              "      <td>71</td>\n",
              "      <td>United States</td>\n",
              "      <td>Walmart</td>\n",
              "    </tr>\n",
              "    <tr>\n",
              "      <th>Alice Walton</th>\n",
              "      <td>9</td>\n",
              "      <td>$54.4 billion</td>\n",
              "      <td>70</td>\n",
              "      <td>United States</td>\n",
              "      <td>Walmart</td>\n",
              "    </tr>\n",
              "    <tr>\n",
              "      <th>S. Robson Walton</th>\n",
              "      <td>10</td>\n",
              "      <td>$54.1 billion</td>\n",
              "      <td>77</td>\n",
              "      <td>United States</td>\n",
              "      <td>Walmart</td>\n",
              "    </tr>\n",
              "  </tbody>\n",
              "</table>\n",
              "</div>"
            ],
            "text/plain": [
              "                          No.  ... Source(s) of wealth\n",
              "Name                           ...                    \n",
              "Jeff Bezos                  1  ...              Amazon\n",
              "Bill Gates                  2  ...           Microsoft\n",
              "Bernard Arnault & family    3  ...                LVMH\n",
              "Warren Buffett              4  ...  Berkshire Hathaway\n",
              "Larry Ellison               5  ...  Oracle Corporation\n",
              "Amancio Ortega              6  ...       Inditex, Zara\n",
              "Mark Zuckerberg             7  ...            Facebook\n",
              "Jim Walton                  8  ...             Walmart\n",
              "Alice Walton                9  ...             Walmart\n",
              "S. Robson Walton           10  ...             Walmart\n",
              "\n",
              "[10 rows x 5 columns]"
            ]
          },
          "metadata": {
            "tags": []
          },
          "execution_count": 3
        }
      ]
    },
    {
      "cell_type": "code",
      "metadata": {
        "colab": {
          "base_uri": "https://localhost:8080/",
          "height": 195
        },
        "id": "46K5-ruFF1BA",
        "outputId": "26ccf6f5-de5a-43ba-97fd-46c2f65b4116"
      },
      "source": [
        "pd.read_html(url, match='Number and combined net worth of billionaires by year')[0].head()"
      ],
      "execution_count": 4,
      "outputs": [
        {
          "output_type": "execute_result",
          "data": {
            "text/html": [
              "<div>\n",
              "<style scoped>\n",
              "    .dataframe tbody tr th:only-of-type {\n",
              "        vertical-align: middle;\n",
              "    }\n",
              "\n",
              "    .dataframe tbody tr th {\n",
              "        vertical-align: top;\n",
              "    }\n",
              "\n",
              "    .dataframe thead th {\n",
              "        text-align: right;\n",
              "    }\n",
              "</style>\n",
              "<table border=\"1\" class=\"dataframe\">\n",
              "  <thead>\n",
              "    <tr style=\"text-align: right;\">\n",
              "      <th></th>\n",
              "      <th>Year</th>\n",
              "      <th>Number of billionaires</th>\n",
              "      <th>Group's combined net worth</th>\n",
              "    </tr>\n",
              "  </thead>\n",
              "  <tbody>\n",
              "    <tr>\n",
              "      <th>0</th>\n",
              "      <td>2020</td>\n",
              "      <td>2095</td>\n",
              "      <td>$8.0 trillion</td>\n",
              "    </tr>\n",
              "    <tr>\n",
              "      <th>1</th>\n",
              "      <td>2019</td>\n",
              "      <td>2153</td>\n",
              "      <td>$8.7 trillion</td>\n",
              "    </tr>\n",
              "    <tr>\n",
              "      <th>2</th>\n",
              "      <td>2018</td>\n",
              "      <td>2208</td>\n",
              "      <td>$9.1 trillion</td>\n",
              "    </tr>\n",
              "    <tr>\n",
              "      <th>3</th>\n",
              "      <td>2017</td>\n",
              "      <td>2043</td>\n",
              "      <td>$7.7 trillion</td>\n",
              "    </tr>\n",
              "    <tr>\n",
              "      <th>4</th>\n",
              "      <td>2016</td>\n",
              "      <td>1810</td>\n",
              "      <td>$6.5 trillion</td>\n",
              "    </tr>\n",
              "  </tbody>\n",
              "</table>\n",
              "</div>"
            ],
            "text/plain": [
              "   Year Number of billionaires Group's combined net worth\n",
              "0  2020                   2095              $8.0 trillion\n",
              "1  2019                   2153              $8.7 trillion\n",
              "2  2018                   2208              $9.1 trillion\n",
              "3  2017                   2043              $7.7 trillion\n",
              "4  2016                   1810              $6.5 trillion"
            ]
          },
          "metadata": {
            "tags": []
          },
          "execution_count": 4
        }
      ]
    },
    {
      "cell_type": "code",
      "metadata": {
        "colab": {
          "base_uri": "https://localhost:8080/",
          "height": 195
        },
        "id": "o9p7ROhhF5hs",
        "outputId": "36355552-24f7-4a99-89a5-7de02d0b03c2"
      },
      "source": [
        "pd.read_html(url)[0].tail()"
      ],
      "execution_count": 6,
      "outputs": [
        {
          "output_type": "execute_result",
          "data": {
            "text/html": [
              "<div>\n",
              "<style scoped>\n",
              "    .dataframe tbody tr th:only-of-type {\n",
              "        vertical-align: middle;\n",
              "    }\n",
              "\n",
              "    .dataframe tbody tr th {\n",
              "        vertical-align: top;\n",
              "    }\n",
              "\n",
              "    .dataframe thead th {\n",
              "        text-align: right;\n",
              "    }\n",
              "</style>\n",
              "<table border=\"1\" class=\"dataframe\">\n",
              "  <thead>\n",
              "    <tr style=\"text-align: right;\">\n",
              "      <th></th>\n",
              "      <th>0</th>\n",
              "      <th>1</th>\n",
              "    </tr>\n",
              "  </thead>\n",
              "  <tbody>\n",
              "    <tr>\n",
              "      <th>6</th>\n",
              "      <td>Latest publication</td>\n",
              "      <td>April 7, 2020</td>\n",
              "    </tr>\n",
              "    <tr>\n",
              "      <th>7</th>\n",
              "      <td>Current list details (2020)[2]</td>\n",
              "      <td>Current list details (2020)[2]</td>\n",
              "    </tr>\n",
              "    <tr>\n",
              "      <th>8</th>\n",
              "      <td>Wealthiest</td>\n",
              "      <td>Jeff Bezos</td>\n",
              "    </tr>\n",
              "    <tr>\n",
              "      <th>9</th>\n",
              "      <td>New members to the list</td>\n",
              "      <td>178</td>\n",
              "    </tr>\n",
              "    <tr>\n",
              "      <th>10</th>\n",
              "      <td>Forbes: The World's Billionaires website</td>\n",
              "      <td>Forbes: The World's Billionaires website</td>\n",
              "    </tr>\n",
              "  </tbody>\n",
              "</table>\n",
              "</div>"
            ],
            "text/plain": [
              "                                           0                                         1\n",
              "6                         Latest publication                             April 7, 2020\n",
              "7             Current list details (2020)[2]            Current list details (2020)[2]\n",
              "8                                 Wealthiest                                Jeff Bezos\n",
              "9                    New members to the list                                       178\n",
              "10  Forbes: The World's Billionaires website  Forbes: The World's Billionaires website"
            ]
          },
          "metadata": {
            "tags": []
          },
          "execution_count": 6
        }
      ]
    },
    {
      "cell_type": "code",
      "metadata": {
        "id": "V5AS0RJsGP-a"
      },
      "source": [
        "pd.read_html(\r\n",
        "    url, \r\n",
        "    na_values=[\"Forbes: The World's Billionaires website\"]\r\n",
        "    )[0].tail()"
      ],
      "execution_count": null,
      "outputs": []
    },
    {
      "cell_type": "code",
      "metadata": {
        "colab": {
          "base_uri": "https://localhost:8080/",
          "height": 195
        },
        "id": "-qsr7olKGYlw",
        "outputId": "cffb4d11-93a1-4180-deec-4ffba7d9c13c"
      },
      "source": [
        "pd.read_html(\r\n",
        "    url,\r\n",
        "    skiprows=3,\r\n",
        "    header=0 \r\n",
        ")[0].head()"
      ],
      "execution_count": 7,
      "outputs": [
        {
          "output_type": "execute_result",
          "data": {
            "text/html": [
              "<div>\n",
              "<style scoped>\n",
              "    .dataframe tbody tr th:only-of-type {\n",
              "        vertical-align: middle;\n",
              "    }\n",
              "\n",
              "    .dataframe tbody tr th {\n",
              "        vertical-align: top;\n",
              "    }\n",
              "\n",
              "    .dataframe thead th {\n",
              "        text-align: right;\n",
              "    }\n",
              "</style>\n",
              "<table border=\"1\" class=\"dataframe\">\n",
              "  <thead>\n",
              "    <tr style=\"text-align: right;\">\n",
              "      <th></th>\n",
              "      <th>Publisher</th>\n",
              "      <th>Whale Media InvestmentsForbes family</th>\n",
              "    </tr>\n",
              "  </thead>\n",
              "  <tbody>\n",
              "    <tr>\n",
              "      <th>0</th>\n",
              "      <td>Publication</td>\n",
              "      <td>Forbes</td>\n",
              "    </tr>\n",
              "    <tr>\n",
              "      <th>1</th>\n",
              "      <td>First published</td>\n",
              "      <td>March 1987[1]</td>\n",
              "    </tr>\n",
              "    <tr>\n",
              "      <th>2</th>\n",
              "      <td>Latest publication</td>\n",
              "      <td>April 7, 2020</td>\n",
              "    </tr>\n",
              "    <tr>\n",
              "      <th>3</th>\n",
              "      <td>Current list details (2020)[2]</td>\n",
              "      <td>Current list details (2020)[2]</td>\n",
              "    </tr>\n",
              "    <tr>\n",
              "      <th>4</th>\n",
              "      <td>Wealthiest</td>\n",
              "      <td>Jeff Bezos</td>\n",
              "    </tr>\n",
              "  </tbody>\n",
              "</table>\n",
              "</div>"
            ],
            "text/plain": [
              "                        Publisher Whale Media InvestmentsForbes family\n",
              "0                     Publication                               Forbes\n",
              "1                 First published                        March 1987[1]\n",
              "2              Latest publication                        April 7, 2020\n",
              "3  Current list details (2020)[2]       Current list details (2020)[2]\n",
              "4                      Wealthiest                           Jeff Bezos"
            ]
          },
          "metadata": {
            "tags": []
          },
          "execution_count": 7
        }
      ]
    }
  ]
}